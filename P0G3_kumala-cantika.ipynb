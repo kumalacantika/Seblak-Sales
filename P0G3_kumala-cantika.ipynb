{
 "cells": [
  {
   "cell_type": "markdown",
   "metadata": {},
   "source": [
    "# Graded Challenge 3"
   ]
  },
  {
   "cell_type": "markdown",
   "metadata": {},
   "source": [
    "# PERKENALAN"
   ]
  },
  {
   "cell_type": "markdown",
   "metadata": {},
   "source": [
    "Nama    : Kumala Cantika Ainun Maya\n",
    "\n",
    "Batch   : SBY-004\n",
    "\n",
    "Objective Tugas:\n",
    "\n",
    "Tugas ini dilakukan untuk memahami konsep web scraping, Business Knowledge dan Practical Statistics dengan mengambil data penjualan seblak dari website tokopedia dan dilakukan analisa statistik guna menunjuang penjualan yang akan dilakukan."
   ]
  },
  {
   "cell_type": "markdown",
   "metadata": {},
   "source": [
    "# ANSWER"
   ]
  },
  {
   "cell_type": "markdown",
   "metadata": {},
   "source": [
    "## A. Web Scraping"
   ]
  },
  {
   "cell_type": "code",
   "execution_count": 1,
   "metadata": {},
   "outputs": [],
   "source": [
    "# Import library\n",
    "from bs4 import BeautifulSoup\n",
    "from selenium import webdriver\n",
    "import pandas as pd\n",
    "import time\n",
    "from scipy import stats\n",
    "import numpy as np\n",
    "import seaborn as sns"
   ]
  },
  {
   "cell_type": "code",
   "execution_count": 2,
   "metadata": {},
   "outputs": [],
   "source": [
    "# Mmebuat browser Chrome baru\n",
    "driver = webdriver.Chrome()"
   ]
  },
  {
   "cell_type": "markdown",
   "metadata": {},
   "source": [
    "### Pengambilan data Nama Produk, Harga Produk, Penjual, Kota Toko, Banyaknya Terjual, dan Rating Produk dari website dengan termasuk iklan"
   ]
  },
  {
   "cell_type": "code",
   "execution_count": 3,
   "metadata": {},
   "outputs": [
    {
     "name": "stdout",
     "output_type": "stream",
     "text": [
      "Panjang data-data:\n",
      "Panjang data nama produk: 511\n",
      "Panjang data harga produk: 511\n",
      "Panjang data nama penjual: 464\n",
      "Panjang data kota produk: 464\n",
      "Panjang data banyak produk terjual: 511\n",
      "Panjang data rating produk: 511\n",
      "\n"
     ]
    },
    {
     "data": {
      "text/html": [
       "<div>\n",
       "<style scoped>\n",
       "    .dataframe tbody tr th:only-of-type {\n",
       "        vertical-align: middle;\n",
       "    }\n",
       "\n",
       "    .dataframe tbody tr th {\n",
       "        vertical-align: top;\n",
       "    }\n",
       "\n",
       "    .dataframe thead th {\n",
       "        text-align: right;\n",
       "    }\n",
       "</style>\n",
       "<table border=\"1\" class=\"dataframe\">\n",
       "  <thead>\n",
       "    <tr style=\"text-align: right;\">\n",
       "      <th></th>\n",
       "      <th>nama</th>\n",
       "      <th>harga</th>\n",
       "      <th>penjual</th>\n",
       "      <th>kota</th>\n",
       "      <th>banyak terjual</th>\n",
       "      <th>rating</th>\n",
       "    </tr>\n",
       "  </thead>\n",
       "  <tbody>\n",
       "    <tr>\n",
       "      <th>0</th>\n",
       "      <td>Kylafood Seblak Mie Baso Sapi Play</td>\n",
       "      <td>Rp24.200</td>\n",
       "      <td>kylafood</td>\n",
       "      <td>Bandung</td>\n",
       "      <td>250+ terjual</td>\n",
       "      <td>4.9</td>\n",
       "    </tr>\n",
       "    <tr>\n",
       "      <th>1</th>\n",
       "      <td>Kylafood Paket (3 Seblak Original 2 Batagor ku...</td>\n",
       "      <td>Rp97.200</td>\n",
       "      <td>Lidigeli</td>\n",
       "      <td>Kab. Garut</td>\n",
       "      <td>3 rb+ terjual</td>\n",
       "      <td>4.9</td>\n",
       "    </tr>\n",
       "    <tr>\n",
       "      <th>2</th>\n",
       "      <td>Kylafood Seblak Rempah Autentik isi (5pcs)</td>\n",
       "      <td>Rp46.325</td>\n",
       "      <td>Rav Jaya Display</td>\n",
       "      <td>Kab. Tangerang</td>\n",
       "      <td>250+ terjual</td>\n",
       "      <td>4.7</td>\n",
       "    </tr>\n",
       "    <tr>\n",
       "      <th>3</th>\n",
       "      <td>Kylafood Paket ( Seblak Original, Batagor, Cir...</td>\n",
       "      <td>Rp86.130</td>\n",
       "      <td>DUO BOCIL SNACK</td>\n",
       "      <td>Depok</td>\n",
       "      <td>750+ terjual</td>\n",
       "      <td>4.9</td>\n",
       "    </tr>\n",
       "    <tr>\n",
       "      <th>4</th>\n",
       "      <td>Geli Food Seblak Ceker Tanpa Tulang Super Peda...</td>\n",
       "      <td>Rp24.000</td>\n",
       "      <td>dariimyu</td>\n",
       "      <td>Kab. Indramayu</td>\n",
       "      <td>100+ terjual</td>\n",
       "      <td>4.8</td>\n",
       "    </tr>\n",
       "    <tr>\n",
       "      <th>...</th>\n",
       "      <td>...</td>\n",
       "      <td>...</td>\n",
       "      <td>...</td>\n",
       "      <td>...</td>\n",
       "      <td>...</td>\n",
       "      <td>...</td>\n",
       "    </tr>\n",
       "    <tr>\n",
       "      <th>459</th>\n",
       "      <td>Kerupuk Seblak Kering Putih Ngembang Khas Keri...</td>\n",
       "      <td>Rp13.999</td>\n",
       "      <td>CamilanJati</td>\n",
       "      <td>Kab. Sidoarjo</td>\n",
       "      <td>30+ terjual</td>\n",
       "      <td>5.0</td>\n",
       "    </tr>\n",
       "    <tr>\n",
       "      <th>460</th>\n",
       "      <td>kerupuk seblak kering pedas 1 kg keripik hot s...</td>\n",
       "      <td>Rp41.000</td>\n",
       "      <td>Lidigeli</td>\n",
       "      <td>Kab. Garut</td>\n",
       "      <td>100+ terjual</td>\n",
       "      <td>4.9</td>\n",
       "    </tr>\n",
       "    <tr>\n",
       "      <th>461</th>\n",
       "      <td>Seblak Rafael, Seblak Coet Instan Halal</td>\n",
       "      <td>Rp23.750</td>\n",
       "      <td>the Dhecip</td>\n",
       "      <td>Tangerang Selatan</td>\n",
       "      <td>500+ terjual</td>\n",
       "      <td>4.9</td>\n",
       "    </tr>\n",
       "    <tr>\n",
       "      <th>462</th>\n",
       "      <td>Kerupuk Seblak Rafael Pedas / Seblak Mawar Ped...</td>\n",
       "      <td>Rp16.000</td>\n",
       "      <td>RIKI STORE 97</td>\n",
       "      <td>Kab. Bogor</td>\n",
       "      <td>100+ terjual</td>\n",
       "      <td>5.0</td>\n",
       "    </tr>\n",
       "    <tr>\n",
       "      <th>463</th>\n",
       "      <td>Seblak Rafael/Seblak Coet Instan Halal</td>\n",
       "      <td>Rp26.600</td>\n",
       "      <td>Lidigeli</td>\n",
       "      <td>Kab. Garut</td>\n",
       "      <td>60+ terjual</td>\n",
       "      <td>5.0</td>\n",
       "    </tr>\n",
       "  </tbody>\n",
       "</table>\n",
       "<p>464 rows × 6 columns</p>\n",
       "</div>"
      ],
      "text/plain": [
       "                                                  nama     harga  \\\n",
       "0                   Kylafood Seblak Mie Baso Sapi Play  Rp24.200   \n",
       "1    Kylafood Paket (3 Seblak Original 2 Batagor ku...  Rp97.200   \n",
       "2           Kylafood Seblak Rempah Autentik isi (5pcs)  Rp46.325   \n",
       "3    Kylafood Paket ( Seblak Original, Batagor, Cir...  Rp86.130   \n",
       "4    Geli Food Seblak Ceker Tanpa Tulang Super Peda...  Rp24.000   \n",
       "..                                                 ...       ...   \n",
       "459  Kerupuk Seblak Kering Putih Ngembang Khas Keri...  Rp13.999   \n",
       "460  kerupuk seblak kering pedas 1 kg keripik hot s...  Rp41.000   \n",
       "461            Seblak Rafael, Seblak Coet Instan Halal  Rp23.750   \n",
       "462  Kerupuk Seblak Rafael Pedas / Seblak Mawar Ped...  Rp16.000   \n",
       "463             Seblak Rafael/Seblak Coet Instan Halal  Rp26.600   \n",
       "\n",
       "              penjual               kota banyak terjual rating  \n",
       "0            kylafood            Bandung   250+ terjual    4.9  \n",
       "1            Lidigeli         Kab. Garut  3 rb+ terjual    4.9  \n",
       "2    Rav Jaya Display     Kab. Tangerang   250+ terjual    4.7  \n",
       "3     DUO BOCIL SNACK              Depok   750+ terjual    4.9  \n",
       "4            dariimyu     Kab. Indramayu   100+ terjual    4.8  \n",
       "..                ...                ...            ...    ...  \n",
       "459       CamilanJati      Kab. Sidoarjo    30+ terjual    5.0  \n",
       "460          Lidigeli         Kab. Garut   100+ terjual    4.9  \n",
       "461        the Dhecip  Tangerang Selatan   500+ terjual    4.9  \n",
       "462     RIKI STORE 97         Kab. Bogor   100+ terjual    5.0  \n",
       "463          Lidigeli         Kab. Garut    60+ terjual    5.0  \n",
       "\n",
       "[464 rows x 6 columns]"
      ]
     },
     "execution_count": 3,
     "metadata": {},
     "output_type": "execute_result"
    }
   ],
   "source": [
    "nama = []\n",
    "harga = []\n",
    "penjual = []\n",
    "kota = []\n",
    "banyak_terjual = []\n",
    "rating = []\n",
    "\n",
    "for i in range(1,15):\n",
    "    url=\"https://www.tokopedia.com/search?navsource=&page=1&q=seblak&srp_component_id=02.01.00.00&srp_page_id=&srp_page_nama=&st={}\".format(i)\n",
    "    driver.get(url)\n",
    "    html = driver.page_source\n",
    "    soup = BeautifulSoup(html, \"html.parser\")\n",
    "    time.sleep(3)\n",
    "\n",
    "    nama += [nama.get_text() for nama in soup.find_all('div', {\"class\":\"prd_link-product-name css-3um8ox\"})]\n",
    "    harga += [harga.get_text() for harga in soup.find_all('div', {\"class\":\"prd_link-product-price css-h66vau\"})]\n",
    "    penjual += [penjual.get_text() for penjual in soup.find_all('span', {\"class\":\"prd_link-shop-name css-1kdc32b flip\"})]\n",
    "    kota += [kota.get_text() for kota in soup.find_all('span', {\"class\":\"prd_link-shop-loc css-1kdc32b flip\"})]\n",
    "    banyak_terjual += [banyak_terjual.get_text() for banyak_terjual in soup.find_all('span', {\"class\":\"prd_label-integrity css-1sgek4h\"})]\n",
    "    rating += [rating.get_text() for rating in soup.find_all('span', {\"class\":\"prd_rating-average-text css-t70v7i\"})]\n",
    "\n",
    "\n",
    "print('Panjang data-data:')\n",
    "print('Panjang data nama produk:', len(nama))\n",
    "print('Panjang data harga produk:', len(harga))\n",
    "print('Panjang data nama penjual:', len(penjual))\n",
    "print('Panjang data kota produk:', len(kota))\n",
    "print('Panjang data banyak produk terjual:', len(banyak_terjual))\n",
    "print('Panjang data rating produk:', len(rating))\n",
    "print(\"\")\n",
    "\n",
    "min_length = min(len(nama), len(harga), len(penjual), len(kota), len(banyak_terjual), len(rating))\n",
    "nama = nama[:min_length]\n",
    "harga = harga[:min_length]\n",
    "penjual = penjual[:min_length]\n",
    "kota = kota[:min_length]\n",
    "banyak_terjual = banyak_terjual[:min_length]\n",
    "rating = rating[:min_length]\n",
    "\n",
    "data_multipage_with_ads = pd.DataFrame()\n",
    "data_multipage_with_ads['nama'] = nama\n",
    "data_multipage_with_ads['harga'] = harga\n",
    "data_multipage_with_ads['penjual'] = penjual\n",
    "data_multipage_with_ads['kota'] = kota\n",
    "data_multipage_with_ads['banyak terjual'] = banyak_terjual\n",
    "data_multipage_with_ads['rating'] = rating\n",
    "\n",
    "data_multipage_with_ads"
   ]
  },
  {
   "cell_type": "markdown",
   "metadata": {},
   "source": [
    "### Pengambilan data Nama Produk, Harga Produk, Penjual, Kota Toko, Banyaknya Terjual, dan Rating Produk dari website tanpa termasuk iklan"
   ]
  },
  {
   "cell_type": "code",
   "execution_count": 60,
   "metadata": {},
   "outputs": [
    {
     "name": "stdout",
     "output_type": "stream",
     "text": [
      "Panjang data-data:\n",
      "Panjang data nama produk: 265\n",
      "Panjang data harga produk: 265\n",
      "Panjang data nama penjual: 229\n",
      "Panjang data kota produk: 229\n",
      "Panjang data banyak produk terjual: 263\n",
      "Panjang data rating produk: 262\n",
      "\n"
     ]
    },
    {
     "data": {
      "text/html": [
       "<div>\n",
       "<style scoped>\n",
       "    .dataframe tbody tr th:only-of-type {\n",
       "        vertical-align: middle;\n",
       "    }\n",
       "\n",
       "    .dataframe tbody tr th {\n",
       "        vertical-align: top;\n",
       "    }\n",
       "\n",
       "    .dataframe thead th {\n",
       "        text-align: right;\n",
       "    }\n",
       "</style>\n",
       "<table border=\"1\" class=\"dataframe\">\n",
       "  <thead>\n",
       "    <tr style=\"text-align: right;\">\n",
       "      <th></th>\n",
       "      <th>nama</th>\n",
       "      <th>harga</th>\n",
       "      <th>penjual</th>\n",
       "      <th>kota</th>\n",
       "      <th>banyak terjual</th>\n",
       "      <th>rating</th>\n",
       "    </tr>\n",
       "  </thead>\n",
       "  <tbody>\n",
       "    <tr>\n",
       "      <th>0</th>\n",
       "      <td>Kylafood Paket ( Seblak Original, Batagor, Cir...</td>\n",
       "      <td>Rp86.130</td>\n",
       "      <td>kylafood</td>\n",
       "      <td>Bandung</td>\n",
       "      <td>750+ terjual</td>\n",
       "      <td>4.9</td>\n",
       "    </tr>\n",
       "    <tr>\n",
       "      <th>1</th>\n",
       "      <td>Geli Food Seblak Ceker Tanpa Tulang Super Peda...</td>\n",
       "      <td>Rp24.000</td>\n",
       "      <td>Lidigeli</td>\n",
       "      <td>Kab. Garut</td>\n",
       "      <td>100+ terjual</td>\n",
       "      <td>4.8</td>\n",
       "    </tr>\n",
       "    <tr>\n",
       "      <th>2</th>\n",
       "      <td>SEBLAK INSTAN MOMMY</td>\n",
       "      <td>Rp13.900</td>\n",
       "      <td>Rav Jaya Display</td>\n",
       "      <td>Kab. Tangerang</td>\n",
       "      <td>1rb+ terjual</td>\n",
       "      <td>4.8</td>\n",
       "    </tr>\n",
       "    <tr>\n",
       "      <th>3</th>\n",
       "      <td>Kerupuk Seblak Rafael Pedas / Seblak Mawar Ped...</td>\n",
       "      <td>Rp16.000</td>\n",
       "      <td>DUO BOCIL SNACK</td>\n",
       "      <td>Depok</td>\n",
       "      <td>100+ terjual</td>\n",
       "      <td>5.0</td>\n",
       "    </tr>\n",
       "    <tr>\n",
       "      <th>4</th>\n",
       "      <td>KRUPUK STIK RASA UDANG CAP PADI KAPAS KHAS IND...</td>\n",
       "      <td>Rp20.350</td>\n",
       "      <td>dariimyu</td>\n",
       "      <td>Kab. Indramayu</td>\n",
       "      <td>250+ terjual</td>\n",
       "      <td>4.9</td>\n",
       "    </tr>\n",
       "    <tr>\n",
       "      <th>...</th>\n",
       "      <td>...</td>\n",
       "      <td>...</td>\n",
       "      <td>...</td>\n",
       "      <td>...</td>\n",
       "      <td>...</td>\n",
       "      <td>...</td>\n",
       "    </tr>\n",
       "    <tr>\n",
       "      <th>224</th>\n",
       "      <td>Prabu Snack Kerupuk Seblak Snack 150 gram</td>\n",
       "      <td>Rp9.500</td>\n",
       "      <td>DUO BOCIL SNACK</td>\n",
       "      <td>Depok</td>\n",
       "      <td>100+ terjual</td>\n",
       "      <td>4.8</td>\n",
       "    </tr>\n",
       "    <tr>\n",
       "      <th>225</th>\n",
       "      <td>Kylafood Paket ( Seblak Original, Batagor, Cir...</td>\n",
       "      <td>Rp86.130</td>\n",
       "      <td>dariimyu</td>\n",
       "      <td>Kab. Indramayu</td>\n",
       "      <td>1rb+ terjual</td>\n",
       "      <td>5.0</td>\n",
       "    </tr>\n",
       "    <tr>\n",
       "      <th>226</th>\n",
       "      <td>Geli Food Seblak Ceker Tanpa Tulang Super Peda...</td>\n",
       "      <td>Rp24.000</td>\n",
       "      <td>Brother Meat Shop</td>\n",
       "      <td>Depok</td>\n",
       "      <td>100+ terjual</td>\n",
       "      <td>4.9</td>\n",
       "    </tr>\n",
       "    <tr>\n",
       "      <th>227</th>\n",
       "      <td>SEBLAK INSTAN MOMMY</td>\n",
       "      <td>Rp13.900</td>\n",
       "      <td>Pusat Cuankie &amp; Cemilan Frozen</td>\n",
       "      <td>Jakarta Timur</td>\n",
       "      <td>250+ terjual</td>\n",
       "      <td>4.9</td>\n",
       "    </tr>\n",
       "    <tr>\n",
       "      <th>228</th>\n",
       "      <td>Kerupuk Seblak Rafael Pedas / Seblak Mawar Ped...</td>\n",
       "      <td>Rp16.000</td>\n",
       "      <td>the Dhecip</td>\n",
       "      <td>Tangerang Selatan</td>\n",
       "      <td>500+ terjual</td>\n",
       "      <td>4.8</td>\n",
       "    </tr>\n",
       "  </tbody>\n",
       "</table>\n",
       "<p>229 rows × 6 columns</p>\n",
       "</div>"
      ],
      "text/plain": [
       "                                                  nama     harga  \\\n",
       "0    Kylafood Paket ( Seblak Original, Batagor, Cir...  Rp86.130   \n",
       "1    Geli Food Seblak Ceker Tanpa Tulang Super Peda...  Rp24.000   \n",
       "2                                  SEBLAK INSTAN MOMMY  Rp13.900   \n",
       "3    Kerupuk Seblak Rafael Pedas / Seblak Mawar Ped...  Rp16.000   \n",
       "4    KRUPUK STIK RASA UDANG CAP PADI KAPAS KHAS IND...  Rp20.350   \n",
       "..                                                 ...       ...   \n",
       "224          Prabu Snack Kerupuk Seblak Snack 150 gram   Rp9.500   \n",
       "225  Kylafood Paket ( Seblak Original, Batagor, Cir...  Rp86.130   \n",
       "226  Geli Food Seblak Ceker Tanpa Tulang Super Peda...  Rp24.000   \n",
       "227                                SEBLAK INSTAN MOMMY  Rp13.900   \n",
       "228  Kerupuk Seblak Rafael Pedas / Seblak Mawar Ped...  Rp16.000   \n",
       "\n",
       "                            penjual               kota banyak terjual rating  \n",
       "0                          kylafood            Bandung   750+ terjual    4.9  \n",
       "1                          Lidigeli         Kab. Garut   100+ terjual    4.8  \n",
       "2                  Rav Jaya Display     Kab. Tangerang   1rb+ terjual    4.8  \n",
       "3                   DUO BOCIL SNACK              Depok   100+ terjual    5.0  \n",
       "4                          dariimyu     Kab. Indramayu   250+ terjual    4.9  \n",
       "..                              ...                ...            ...    ...  \n",
       "224                 DUO BOCIL SNACK              Depok   100+ terjual    4.8  \n",
       "225                        dariimyu     Kab. Indramayu   1rb+ terjual    5.0  \n",
       "226               Brother Meat Shop              Depok   100+ terjual    4.9  \n",
       "227  Pusat Cuankie & Cemilan Frozen      Jakarta Timur   250+ terjual    4.9  \n",
       "228                      the Dhecip  Tangerang Selatan   500+ terjual    4.8  \n",
       "\n",
       "[229 rows x 6 columns]"
      ]
     },
     "execution_count": 60,
     "metadata": {},
     "output_type": "execute_result"
    }
   ],
   "source": [
    "nama = []\n",
    "harga = []\n",
    "penjual = []\n",
    "kota = []\n",
    "banyak_terjual = []\n",
    "rating = []\n",
    "\n",
    "driver = webdriver.Chrome()\n",
    "\n",
    "for i in range(1,20):\n",
    "    url=\"https://www.tokopedia.com/search?navsource=&page=1&q=seblak&srp_component_id=02.01.00.00&srp_page_id=&srp_page_nama=&st={}\".format(i)\n",
    "    driver.get(url)\n",
    "    html = driver.page_source\n",
    "    soup = BeautifulSoup(html, \"html.parser\")\n",
    "    time.sleep(5)\n",
    "\n",
    "    for tag in soup.find_all( 'div',{\"class\":\"css-llwpbs\"} ):\n",
    "        try:\n",
    "            nama += [nama.get_text() for nama in tag.find_all('div', {\"class\":\"prd_link-product-name css-3um8ox\"})]\n",
    "        except:\n",
    "            nama.append(None)\n",
    "        try:\n",
    "            harga += [harga.get_text() for harga in tag.find_all('div', {\"class\":\"prd_link-product-price css-h66vau\"})]\n",
    "        except:    \n",
    "            harga.append(None)\n",
    "        try:\n",
    "            penjual += [penjual.get_text() for penjual in tag.find_all('span', {\"class\":\"prd_link-shop-name css-1kdc32b flip\"})]\n",
    "        except:\n",
    "            penjual.append(None)\n",
    "        try:\n",
    "            kota += [kota.get_text() for kota in tag.find_all('span', {\"class\":\"prd_link-shop-loc css-1kdc32b flip\"})]\n",
    "        except:\n",
    "            kota.append(None)\n",
    "        try:\n",
    "            banyak_terjual += [banyak_terjual.get_text() for banyak_terjual in tag.find_all('span', {\"class\":\"prd_label-integrity css-1sgek4h\"})]\n",
    "        except:\n",
    "            banyak_terjual.append(None)\n",
    "        try:\n",
    "            rating += [rating.get_text() for rating in tag.find_all('span', {\"class\":\"prd_rating-average-text css-t70v7i\"})]\n",
    "        except:\n",
    "            rating.append(None)\n",
    "\n",
    "print('Panjang data-data:')\n",
    "print('Panjang data nama produk:', len(nama))\n",
    "print('Panjang data harga produk:', len(harga))\n",
    "print('Panjang data nama penjual:', len(penjual))\n",
    "print('Panjang data kota produk:', len(kota))\n",
    "print('Panjang data banyak produk terjual:', len(banyak_terjual))\n",
    "print('Panjang data rating produk:', len(rating))\n",
    "print(\"\")\n",
    "\n",
    "min_length = min(len(nama), len(harga), len(penjual), len(kota), len(banyak_terjual), len(rating))\n",
    "nama = nama[:min_length]\n",
    "harga = harga[:min_length]\n",
    "penjual = penjual[:min_length]\n",
    "kota = kota[:min_length]\n",
    "banyak_terjual = banyak_terjual[:min_length]\n",
    "rating = rating[:min_length]\n",
    "\n",
    "data_multipage_no_ads = pd.DataFrame()\n",
    "data_multipage_no_ads['nama'] = nama\n",
    "data_multipage_no_ads['harga'] = harga\n",
    "data_multipage_no_ads['penjual'] = penjual\n",
    "data_multipage_no_ads['kota'] = kota\n",
    "data_multipage_no_ads['banyak terjual'] = banyak_terjual\n",
    "data_multipage_no_ads['rating'] = rating\n",
    "\n",
    "data_multipage_no_ads"
   ]
  },
  {
   "cell_type": "code",
   "execution_count": 6,
   "metadata": {},
   "outputs": [],
   "source": [
    "# Menutup driver browser\n",
    "driver.quit()"
   ]
  },
  {
   "cell_type": "code",
   "execution_count": 66,
   "metadata": {},
   "outputs": [],
   "source": [
    "# Save data web scrapping tanpa iklan ke file csv\n",
    "data_multipage_no_ads = data_multipage_no_ads.to_csv('data_multipage_no_ads.csv', index=False)"
   ]
  },
  {
   "cell_type": "code",
   "execution_count": 3,
   "metadata": {},
   "outputs": [],
   "source": [
    "# Membuka file data \n",
    "data_multipage_no_ads = pd.read_csv('data_multipage_no_ads.csv')"
   ]
  },
  {
   "cell_type": "markdown",
   "metadata": {},
   "source": [
    "## B. Data Preparation"
   ]
  },
  {
   "cell_type": "markdown",
   "metadata": {},
   "source": [
    "### 1. Eksplorasi data sederhana"
   ]
  },
  {
   "cell_type": "code",
   "execution_count": 4,
   "metadata": {},
   "outputs": [
    {
     "data": {
      "text/html": [
       "<div>\n",
       "<style scoped>\n",
       "    .dataframe tbody tr th:only-of-type {\n",
       "        vertical-align: middle;\n",
       "    }\n",
       "\n",
       "    .dataframe tbody tr th {\n",
       "        vertical-align: top;\n",
       "    }\n",
       "\n",
       "    .dataframe thead th {\n",
       "        text-align: right;\n",
       "    }\n",
       "</style>\n",
       "<table border=\"1\" class=\"dataframe\">\n",
       "  <thead>\n",
       "    <tr style=\"text-align: right;\">\n",
       "      <th></th>\n",
       "      <th>nama</th>\n",
       "      <th>harga</th>\n",
       "      <th>penjual</th>\n",
       "      <th>kota</th>\n",
       "      <th>banyak terjual</th>\n",
       "      <th>rating</th>\n",
       "    </tr>\n",
       "  </thead>\n",
       "  <tbody>\n",
       "    <tr>\n",
       "      <th>0</th>\n",
       "      <td>Kylafood Paket ( Seblak Original, Batagor, Cir...</td>\n",
       "      <td>Rp86.130</td>\n",
       "      <td>kylafood</td>\n",
       "      <td>Bandung</td>\n",
       "      <td>750+ terjual</td>\n",
       "      <td>4.9</td>\n",
       "    </tr>\n",
       "    <tr>\n",
       "      <th>1</th>\n",
       "      <td>Geli Food Seblak Ceker Tanpa Tulang Super Peda...</td>\n",
       "      <td>Rp24.000</td>\n",
       "      <td>Lidigeli</td>\n",
       "      <td>Kab. Garut</td>\n",
       "      <td>100+ terjual</td>\n",
       "      <td>4.8</td>\n",
       "    </tr>\n",
       "    <tr>\n",
       "      <th>2</th>\n",
       "      <td>SEBLAK INSTAN MOMMY</td>\n",
       "      <td>Rp13.900</td>\n",
       "      <td>Rav Jaya Display</td>\n",
       "      <td>Kab. Tangerang</td>\n",
       "      <td>1rb+ terjual</td>\n",
       "      <td>4.8</td>\n",
       "    </tr>\n",
       "    <tr>\n",
       "      <th>3</th>\n",
       "      <td>Kerupuk Seblak Rafael Pedas / Seblak Mawar Ped...</td>\n",
       "      <td>Rp16.000</td>\n",
       "      <td>DUO BOCIL SNACK</td>\n",
       "      <td>Depok</td>\n",
       "      <td>100+ terjual</td>\n",
       "      <td>5.0</td>\n",
       "    </tr>\n",
       "    <tr>\n",
       "      <th>4</th>\n",
       "      <td>KRUPUK STIK RASA UDANG CAP PADI KAPAS KHAS IND...</td>\n",
       "      <td>Rp20.350</td>\n",
       "      <td>dariimyu</td>\n",
       "      <td>Kab. Indramayu</td>\n",
       "      <td>250+ terjual</td>\n",
       "      <td>4.9</td>\n",
       "    </tr>\n",
       "  </tbody>\n",
       "</table>\n",
       "</div>"
      ],
      "text/plain": [
       "                                                nama     harga  \\\n",
       "0  Kylafood Paket ( Seblak Original, Batagor, Cir...  Rp86.130   \n",
       "1  Geli Food Seblak Ceker Tanpa Tulang Super Peda...  Rp24.000   \n",
       "2                                SEBLAK INSTAN MOMMY  Rp13.900   \n",
       "3  Kerupuk Seblak Rafael Pedas / Seblak Mawar Ped...  Rp16.000   \n",
       "4  KRUPUK STIK RASA UDANG CAP PADI KAPAS KHAS IND...  Rp20.350   \n",
       "\n",
       "            penjual            kota banyak terjual  rating  \n",
       "0          kylafood         Bandung   750+ terjual     4.9  \n",
       "1          Lidigeli      Kab. Garut   100+ terjual     4.8  \n",
       "2  Rav Jaya Display  Kab. Tangerang   1rb+ terjual     4.8  \n",
       "3   DUO BOCIL SNACK           Depok   100+ terjual     5.0  \n",
       "4          dariimyu  Kab. Indramayu   250+ terjual     4.9  "
      ]
     },
     "execution_count": 4,
     "metadata": {},
     "output_type": "execute_result"
    }
   ],
   "source": [
    "data_multipage_no_ads.head()"
   ]
  },
  {
   "cell_type": "markdown",
   "metadata": {},
   "source": [
    "Hasil web scrapping diperoleh data dengan 6 kolom, yakni kolom nama produk, harga produk, nama penjual, kota penjual, bayaknya produk yang terjual, dan rating produk."
   ]
  },
  {
   "cell_type": "code",
   "execution_count": 11,
   "metadata": {},
   "outputs": [
    {
     "name": "stdout",
     "output_type": "stream",
     "text": [
      "<class 'pandas.core.frame.DataFrame'>\n",
      "RangeIndex: 124 entries, 0 to 123\n",
      "Data columns (total 6 columns):\n",
      " #   Column          Non-Null Count  Dtype  \n",
      "---  ------          --------------  -----  \n",
      " 0   nama            124 non-null    object \n",
      " 1   harga           124 non-null    object \n",
      " 2   penjual         124 non-null    object \n",
      " 3   kota            124 non-null    object \n",
      " 4   banyak terjual  124 non-null    object \n",
      " 5   rating          124 non-null    float64\n",
      "dtypes: float64(1), object(5)\n",
      "memory usage: 5.9+ KB\n"
     ]
    }
   ],
   "source": [
    "data_multipage_no_ads.info()"
   ]
  },
  {
   "cell_type": "markdown",
   "metadata": {},
   "source": [
    "Tabel tersebut terdiri dari 6 kolom dan 124 baris dengan tipe data yang dalam beberapa koloh terdapat kesalahan pada tipe datanya. Seharusnya kkolom harga dan banyak terjual bertipe float karena datanya berupa angka."
   ]
  },
  {
   "cell_type": "code",
   "execution_count": 8,
   "metadata": {},
   "outputs": [
    {
     "name": "stdout",
     "output_type": "stream",
     "text": [
      "0\n"
     ]
    }
   ],
   "source": [
    "# Check Missing value in entire dataframe\n",
    "print(data_multipage_no_ads.isna().sum().sum())"
   ]
  },
  {
   "cell_type": "markdown",
   "metadata": {},
   "source": [
    "Tidak ada missing value dalam tabel tersebut."
   ]
  },
  {
   "cell_type": "markdown",
   "metadata": {},
   "source": [
    "### 2. Proses Cleaning Data"
   ]
  },
  {
   "cell_type": "code",
   "execution_count": 5,
   "metadata": {},
   "outputs": [],
   "source": [
    "# Cleaning data multipage no ads kolom harga, banyak terjual, dan rating produk dengan mengubah beberapa simbol dari data\n",
    "data_multipage_no_ads['harga'] = data_multipage_no_ads['harga'].str.replace('Rp', '')\n",
    "data_multipage_no_ads['harga'] = data_multipage_no_ads['harga'].str.replace('.', '')\n",
    "\n",
    "\n",
    "data_multipage_no_ads['banyak terjual'] = data_multipage_no_ads['banyak terjual'].str.replace(' rb+ terjual', '000')\n",
    "data_multipage_no_ads['banyak terjual'] = data_multipage_no_ads['banyak terjual'].str.replace('+ terjual', '')\n",
    "data_multipage_no_ads['banyak terjual'] = data_multipage_no_ads['banyak terjual'].str.replace('rb', '000')\n",
    "data_multipage_no_ads['banyak terjual'] = data_multipage_no_ads['banyak terjual'].str.replace(' terjual', '')\n",
    "\n",
    "# Mengubah tipe data kolom harga, banyak terjual, dan rating dalam bentuk float\n",
    "data_multipage_no_ads['harga'] = data_multipage_no_ads['harga'].astype('float')\n",
    "data_multipage_no_ads['banyak terjual'] = data_multipage_no_ads['banyak terjual'].astype('float')\n",
    "data_multipage_no_ads['rating'] = data_multipage_no_ads['rating'].astype('float')"
   ]
  },
  {
   "cell_type": "code",
   "execution_count": 13,
   "metadata": {},
   "outputs": [
    {
     "name": "stdout",
     "output_type": "stream",
     "text": [
      "<class 'pandas.core.frame.DataFrame'>\n",
      "RangeIndex: 124 entries, 0 to 123\n",
      "Data columns (total 6 columns):\n",
      " #   Column          Non-Null Count  Dtype  \n",
      "---  ------          --------------  -----  \n",
      " 0   nama            124 non-null    object \n",
      " 1   harga           124 non-null    float64\n",
      " 2   penjual         124 non-null    object \n",
      " 3   kota            124 non-null    object \n",
      " 4   banyak terjual  124 non-null    float64\n",
      " 5   rating          124 non-null    float64\n",
      "dtypes: float64(3), object(3)\n",
      "memory usage: 5.9+ KB\n"
     ]
    }
   ],
   "source": [
    "# Info data multipage no ads setelah proses cleaning data\n",
    "data_multipage_no_ads.info()"
   ]
  },
  {
   "cell_type": "markdown",
   "metadata": {},
   "source": [
    "Tipe data kolom harga, banyak terjual, dan rating sudah terubah dalam bentuk float"
   ]
  },
  {
   "cell_type": "code",
   "execution_count": 6,
   "metadata": {},
   "outputs": [
    {
     "data": {
      "text/plain": [
       "0"
      ]
     },
     "execution_count": 6,
     "metadata": {},
     "output_type": "execute_result"
    }
   ],
   "source": [
    "# Menghapus data duplicate\n",
    "data_multipage_no_ads = data_multipage_no_ads.drop_duplicates()\n",
    "\n",
    "# Check jika terdapat data duplikat \n",
    "duplicates = data_multipage_no_ads.duplicated().sum()\n",
    "duplicates"
   ]
  },
  {
   "cell_type": "markdown",
   "metadata": {},
   "source": [
    "Pada kode sebelumnya sebelum saya save dalam bentuk csv sudah saya lakukan drop data duplicate, sehingga data tersebut sudah tidak terdapat data duplicate lagi."
   ]
  },
  {
   "cell_type": "markdown",
   "metadata": {},
   "source": [
    "## C. Business Understanding / Problem Statement"
   ]
  },
  {
   "cell_type": "markdown",
   "metadata": {},
   "source": [
    "- Spesific      : \n",
    "\n",
    "Menambah pendapatan dengan menjalankan bisnis online modal murah dengan menjalankan skema dropship seblak dari tokopedia.\n",
    "\n",
    "\n",
    "- Measurable    :\n",
    "\n",
    "Pendapatan meningkat dengan modal minimal melalui skema dropship seblak berdasarkan riset pasar\n",
    "\n",
    "\n",
    "- Achievable    :\n",
    "\n",
    "\n",
    "Berdasarkan riset data dan tren pasar, modal yang dikeluarkan dapat berkurang banyak dan pendapatan lebih mudah meningkat daripada membangun produksi sendiri\n",
    "\n",
    "\n",
    "- Relevant      :\n",
    "\n",
    "Menjual seblak yang memiliki banyak peminat dengan skema dropship yang mudah dan dengan modal murah \n",
    "\n",
    "- Time Bound    :\n",
    "\n",
    "Meningkatkan pendapatan untuk satu bulan kedepan melalui penjualan dropship seblak \n",
    "\n",
    "\n",
    "Problem Statement :\n",
    "\n",
    "Meningkatkan pendapatan selama satu bulan kedepan dengan modal seminimal mungkin menggunakan skema bisnis dropshiper seblak dari platfrom tokopedia berdasarkan riset dan trend pasar pelanggan.\n"
   ]
  },
  {
   "cell_type": "markdown",
   "metadata": {},
   "source": [
    "## D. Analysis"
   ]
  },
  {
   "cell_type": "markdown",
   "metadata": {},
   "source": [
    "### Mengetahui distribusi dan kecenderungan ada tidaknya outlier berdasarkan Central Tendency, standar deviasi, dan Outliers and Extreme Values Analysis"
   ]
  },
  {
   "cell_type": "code",
   "execution_count": 7,
   "metadata": {},
   "outputs": [
    {
     "name": "stdout",
     "output_type": "stream",
     "text": [
      "Nilai rata-rata dari harga produk tanpa iklan: 22595.91129032258\n",
      "Nilai median dari harga produk tanpa iklan: 15500.0\n",
      "Nilai standar deviasi dari harga produk tanpa iklan: 24483.03779706584\n",
      "Nilai skewness dari harga produk tanpa iklan: 2.9248211014900005\n",
      "Nilai kurtosis dari harga produk tanpa iklan: 11.81987245533301\n",
      "\n",
      "Nilai rata-rata dari banyak terjual produk tanpa iklan: 962.5887096774194\n",
      "Nilai median dari banyak terjual produk tanpa iklan: 100.0\n",
      "Nilai standar deviasi dari banyak terjual produk tanpa iklan: 2098.5913394352874\n",
      "Nilai skewness dari banyak terjual produk tanpa iklan: 3.515739521399672\n",
      "Nilai kurtosis dari banyak terjual produk tanpa iklan: 12.271825634737498\n",
      "\n",
      "Nilai rata-rata dari rating produk tanpa iklan: 4.868548387096773\n",
      "Nilai median dari rating produk tanpa iklan: 4.9\n",
      "Nilai standar deviasi dari rating produk tanpa iklan: 0.10070235905542946\n",
      "Nilai skewness dari rating produk tanpa iklan: -1.4682295912162218\n",
      "Nilai kurtosis dari rating produk tanpa iklan: 4.308851695752139\n",
      "\n"
     ]
    }
   ],
   "source": [
    "# Kolom harga\n",
    "print('Nilai rata-rata dari harga produk tanpa iklan:', data_multipage_no_ads['harga'].mean())\n",
    "print('Nilai median dari harga produk tanpa iklan:', data_multipage_no_ads['harga'].median())\n",
    "print('Nilai standar deviasi dari harga produk tanpa iklan:', data_multipage_no_ads['harga'].std())\n",
    "print('Nilai skewness dari harga produk tanpa iklan:', data_multipage_no_ads['harga'].skew())\n",
    "print('Nilai kurtosis dari harga produk tanpa iklan:', data_multipage_no_ads['harga'].kurtosis())\n",
    "print('')\n",
    "\n",
    "# Kolom banyak produk terjual\n",
    "print('Nilai rata-rata dari banyak terjual produk tanpa iklan:', data_multipage_no_ads['banyak terjual'].mean())\n",
    "print('Nilai median dari banyak terjual produk tanpa iklan:', data_multipage_no_ads['banyak terjual'].median())\n",
    "print('Nilai standar deviasi dari banyak terjual produk tanpa iklan:', data_multipage_no_ads['banyak terjual'].std())\n",
    "print('Nilai skewness dari banyak terjual produk tanpa iklan:', data_multipage_no_ads['banyak terjual'].skew())\n",
    "print('Nilai kurtosis dari banyak terjual produk tanpa iklan:', data_multipage_no_ads['banyak terjual'].kurtosis())\n",
    "print('')\n",
    "\n",
    "# Kolom rating produk\n",
    "print('Nilai rata-rata dari rating produk tanpa iklan:', data_multipage_no_ads['rating'].mean())\n",
    "print('Nilai median dari rating produk tanpa iklan:', data_multipage_no_ads['rating'].median())\n",
    "print('Nilai standar deviasi dari rating produk tanpa iklan:', data_multipage_no_ads['rating'].std())\n",
    "print('Nilai skewness dari rating produk tanpa iklan:', data_multipage_no_ads['rating'].skew())\n",
    "print('Nilai kurtosis dari rating produk tanpa iklan:', data_multipage_no_ads['rating'].kurtosis())\n",
    "print('')"
   ]
  },
  {
   "cell_type": "markdown",
   "metadata": {},
   "source": [
    "Berdasarkan hasil perhitungan diperoleh bahwa:\n",
    "Pada kolom harga dan produk terjual diperoleh bahwa kurva yang terbentuk adalah kurva dengan kemiringan positif (kurva miring ke kanan) dan tingkat keruncingan yang positif (puncak yang lebih tinggi) atau menunjukkan outlier yang signifikan.\n",
    "\n",
    "Pada kolom rating diperoleh bahwa kurva yang terbentuk adalah kurva dengan kemiringan negatif(kurva miring ke kiri) dan tingkat keruncingan yang positif (puncak yang lebih tinggi) atau menunjukkan outlier yang signifikan.\n",
    "\n",
    "Berdasarkan hal tersebut terlihat kemungkinan terdapat outlier karena nilai skewness yang melebihi 0.5 sehingga menggunakan metode Tukey's Rule untuk mengetahui dan mengatasi outlier tersebut."
   ]
  },
  {
   "cell_type": "code",
   "execution_count": 17,
   "metadata": {},
   "outputs": [
    {
     "name": "stdout",
     "output_type": "stream",
     "text": [
      "Upper Boundary: 46649.62\n",
      "Lower Boundary: -13749.38\n",
      "Persentase dari oulier: 11.29%\n"
     ]
    }
   ],
   "source": [
    "# Tukey's Rule kolom harga\n",
    "q1 = data_multipage_no_ads['harga'].quantile(0.25)\n",
    "q3 = data_multipage_no_ads['harga'].quantile(0.75)\n",
    "iqr = q3-q1\n",
    "\n",
    "up_bound = q3 + 1.5*iqr\n",
    "low_bound = q1 - 1.5*iqr\n",
    "\n",
    "print(f'Upper Boundary: {up_bound:.2f}' )\n",
    "print(f'Lower Boundary: {low_bound:.2f}')\n",
    "\n",
    "outlier = data_multipage_no_ads['harga'][(data_multipage_no_ads['harga']<low_bound) | (data_multipage_no_ads['harga']>up_bound)]\n",
    "print(f'Persentase dari oulier: {len(outlier)*100/len(data_multipage_no_ads[\"harga\"]):.2f}%')"
   ]
  },
  {
   "cell_type": "markdown",
   "metadata": {},
   "source": [
    "Berdasarkan perhitungan tersebut dalam kolom harga diketahui batas boundary mulai dari rentang -13749.38 sampai 46649.62 dengan persentase outlier sebesar 11.29%"
   ]
  },
  {
   "cell_type": "code",
   "execution_count": 18,
   "metadata": {},
   "outputs": [
    {
     "name": "stdout",
     "output_type": "stream",
     "text": [
      "Upper Boundary: 1725.00\n",
      "Lower Boundary: -875.00\n",
      "Persentase dari outlier: 14.52%\n"
     ]
    }
   ],
   "source": [
    "# Tukey's Rule kolom banyak produk terjual\n",
    "q1 = data_multipage_no_ads['banyak terjual'].quantile(0.25)\n",
    "q3 = data_multipage_no_ads['banyak terjual'].quantile(0.75)\n",
    "iqr = q3-q1\n",
    "\n",
    "up_bound = q3 + 1.5*iqr\n",
    "low_bound = q1 - 1.5*iqr\n",
    "\n",
    "print(f'Upper Boundary: {up_bound:.2f}' )\n",
    "print(f'Lower Boundary: {low_bound:.2f}')\n",
    "\n",
    "outlier = data_multipage_no_ads['banyak terjual'][(data_multipage_no_ads['banyak terjual']<low_bound) | (data_multipage_no_ads['banyak terjual']>up_bound)]\n",
    "print(f'Persentase dari outlier: {len(outlier)*100/len(data_multipage_no_ads[\"banyak terjual\"]):.2f}%')"
   ]
  },
  {
   "cell_type": "markdown",
   "metadata": {},
   "source": [
    "Berdasarkan perhitungan tersebut dalam kolom bayak terjual diketahui batas boundary mulai dari rentang -875 sampai 1725 dengan persentase outlier sebesar 14.52%"
   ]
  },
  {
   "cell_type": "code",
   "execution_count": 19,
   "metadata": {},
   "outputs": [
    {
     "name": "stdout",
     "output_type": "stream",
     "text": [
      "Upper Boundary: 5.05\n",
      "Lower Boundary: 4.65\n",
      "Persentase dari outlier: 3.23%\n"
     ]
    }
   ],
   "source": [
    "# Tukey's Rule kolom rating\n",
    "q1 = data_multipage_no_ads['rating'].quantile(0.25)\n",
    "q3 = data_multipage_no_ads['rating'].quantile(0.75)\n",
    "iqr = q3-q1\n",
    "\n",
    "up_bound = q3 + 1.5*iqr\n",
    "low_bound = q1 - 1.5*iqr\n",
    "\n",
    "print(f'Upper Boundary: {up_bound:.2f}' )\n",
    "print(f'Lower Boundary: {low_bound:.2f}')\n",
    "\n",
    "outlier = data_multipage_no_ads['rating'][(data_multipage_no_ads['rating']<low_bound) | (data_multipage_no_ads['rating']>up_bound)]\n",
    "print(f'Persentase dari outlier: {len(outlier)*100/len(data_multipage_no_ads[\"rating\"]):.2f}%')"
   ]
  },
  {
   "cell_type": "markdown",
   "metadata": {},
   "source": [
    "Berdasarkan perhitungan tersebut dalam kolom rating diketahui batas boundary mulai dari rentang 4.65 sampai 5.05 dengan persentase outlier sebesar 3.23%"
   ]
  },
  {
   "cell_type": "markdown",
   "metadata": {},
   "source": [
    "### Mengaplikasikan confidence interval untuk mengukur potensi pendapatan dari penjualan seblak (dianggap per bulan)"
   ]
  },
  {
   "cell_type": "code",
   "execution_count": 7,
   "metadata": {},
   "outputs": [],
   "source": [
    "# Membuat kolom pendapatan yang merupakan hasil kali dari kolom harga dengan kolom banyak produk terjual\n",
    "data_multipage_no_ads['pendapatan'] = data_multipage_no_ads['harga']*data_multipage_no_ads['banyak terjual']"
   ]
  },
  {
   "cell_type": "code",
   "execution_count": 12,
   "metadata": {},
   "outputs": [
    {
     "data": {
      "text/html": [
       "<div>\n",
       "<style scoped>\n",
       "    .dataframe tbody tr th:only-of-type {\n",
       "        vertical-align: middle;\n",
       "    }\n",
       "\n",
       "    .dataframe tbody tr th {\n",
       "        vertical-align: top;\n",
       "    }\n",
       "\n",
       "    .dataframe thead th {\n",
       "        text-align: right;\n",
       "    }\n",
       "</style>\n",
       "<table border=\"1\" class=\"dataframe\">\n",
       "  <thead>\n",
       "    <tr style=\"text-align: right;\">\n",
       "      <th></th>\n",
       "      <th>nama</th>\n",
       "      <th>harga</th>\n",
       "      <th>penjual</th>\n",
       "      <th>kota</th>\n",
       "      <th>banyak terjual</th>\n",
       "      <th>rating</th>\n",
       "      <th>pendapatan</th>\n",
       "    </tr>\n",
       "  </thead>\n",
       "  <tbody>\n",
       "    <tr>\n",
       "      <th>0</th>\n",
       "      <td>Kylafood Paket ( Seblak Original, Batagor, Cir...</td>\n",
       "      <td>86130.0</td>\n",
       "      <td>kylafood</td>\n",
       "      <td>Bandung</td>\n",
       "      <td>750.0</td>\n",
       "      <td>4.9</td>\n",
       "      <td>64597500.0</td>\n",
       "    </tr>\n",
       "    <tr>\n",
       "      <th>1</th>\n",
       "      <td>Geli Food Seblak Ceker Tanpa Tulang Super Peda...</td>\n",
       "      <td>24000.0</td>\n",
       "      <td>Lidigeli</td>\n",
       "      <td>Kab. Garut</td>\n",
       "      <td>100.0</td>\n",
       "      <td>4.8</td>\n",
       "      <td>2400000.0</td>\n",
       "    </tr>\n",
       "    <tr>\n",
       "      <th>2</th>\n",
       "      <td>SEBLAK INSTAN MOMMY</td>\n",
       "      <td>13900.0</td>\n",
       "      <td>Rav Jaya Display</td>\n",
       "      <td>Kab. Tangerang</td>\n",
       "      <td>1000.0</td>\n",
       "      <td>4.8</td>\n",
       "      <td>13900000.0</td>\n",
       "    </tr>\n",
       "    <tr>\n",
       "      <th>3</th>\n",
       "      <td>Kerupuk Seblak Rafael Pedas / Seblak Mawar Ped...</td>\n",
       "      <td>16000.0</td>\n",
       "      <td>DUO BOCIL SNACK</td>\n",
       "      <td>Depok</td>\n",
       "      <td>100.0</td>\n",
       "      <td>5.0</td>\n",
       "      <td>1600000.0</td>\n",
       "    </tr>\n",
       "    <tr>\n",
       "      <th>4</th>\n",
       "      <td>KRUPUK STIK RASA UDANG CAP PADI KAPAS KHAS IND...</td>\n",
       "      <td>20350.0</td>\n",
       "      <td>dariimyu</td>\n",
       "      <td>Kab. Indramayu</td>\n",
       "      <td>250.0</td>\n",
       "      <td>4.9</td>\n",
       "      <td>5087500.0</td>\n",
       "    </tr>\n",
       "  </tbody>\n",
       "</table>\n",
       "</div>"
      ],
      "text/plain": [
       "                                                nama    harga  \\\n",
       "0  Kylafood Paket ( Seblak Original, Batagor, Cir...  86130.0   \n",
       "1  Geli Food Seblak Ceker Tanpa Tulang Super Peda...  24000.0   \n",
       "2                                SEBLAK INSTAN MOMMY  13900.0   \n",
       "3  Kerupuk Seblak Rafael Pedas / Seblak Mawar Ped...  16000.0   \n",
       "4  KRUPUK STIK RASA UDANG CAP PADI KAPAS KHAS IND...  20350.0   \n",
       "\n",
       "            penjual            kota  banyak terjual  rating  pendapatan  \n",
       "0          kylafood         Bandung           750.0     4.9  64597500.0  \n",
       "1          Lidigeli      Kab. Garut           100.0     4.8   2400000.0  \n",
       "2  Rav Jaya Display  Kab. Tangerang          1000.0     4.8  13900000.0  \n",
       "3   DUO BOCIL SNACK           Depok           100.0     5.0   1600000.0  \n",
       "4          dariimyu  Kab. Indramayu           250.0     4.9   5087500.0  "
      ]
     },
     "execution_count": 12,
     "metadata": {},
     "output_type": "execute_result"
    }
   ],
   "source": [
    "# Data dengan tambahan kolom pendapatan\n",
    "data_multipage_no_ads.head()"
   ]
  },
  {
   "cell_type": "code",
   "execution_count": 13,
   "metadata": {},
   "outputs": [
    {
     "name": "stdout",
     "output_type": "stream",
     "text": [
      "<class 'pandas.core.frame.DataFrame'>\n",
      "RangeIndex: 124 entries, 0 to 123\n",
      "Data columns (total 7 columns):\n",
      " #   Column          Non-Null Count  Dtype  \n",
      "---  ------          --------------  -----  \n",
      " 0   nama            124 non-null    object \n",
      " 1   harga           124 non-null    float64\n",
      " 2   penjual         124 non-null    object \n",
      " 3   kota            124 non-null    object \n",
      " 4   banyak terjual  124 non-null    float64\n",
      " 5   rating          124 non-null    float64\n",
      " 6   pendapatan      124 non-null    float64\n",
      "dtypes: float64(4), object(3)\n",
      "memory usage: 6.9+ KB\n"
     ]
    }
   ],
   "source": [
    "data_multipage_no_ads.info()"
   ]
  },
  {
   "cell_type": "markdown",
   "metadata": {},
   "source": [
    "Terdapat 7 kolom dan 124 baris dalam data setelah diberi tambahan kolom pendapatan yang merupakan perhitungan dari harga*banyak produk terjual"
   ]
  },
  {
   "cell_type": "code",
   "execution_count": 21,
   "metadata": {},
   "outputs": [
    {
     "name": "stdout",
     "output_type": "stream",
     "text": [
      "Lower Limit: 1689728.4136568625\n",
      "Upper Limit: 4572771.586343138\n"
     ]
    }
   ],
   "source": [
    "# Menghitung confidence interval untuk lower dan upper value kolom pendapatan\n",
    "median = np.median(data_multipage_no_ads['pendapatan'])\n",
    "IQR = np.percentile(data_multipage_no_ads['pendapatan'], 75) - np.percentile(data_multipage_no_ads['pendapatan'], 25)\n",
    "N = len(data_multipage_no_ads['pendapatan'])\n",
    "confidence_level = 0.95\n",
    "z_value = stats.norm.ppf((1 + confidence_level) / 2)\n",
    "\n",
    "lower_limit = median - z_value * (IQR / np.sqrt(N))\n",
    "upper_limit = median + z_value * (IQR / np.sqrt(N))\n",
    "\n",
    "print('Lower Limit:', lower_limit)\n",
    "print('Upper Limit:', upper_limit)"
   ]
  },
  {
   "cell_type": "markdown",
   "metadata": {},
   "source": [
    "Besar potensi minimum pendapatan yang diperoleh penjualan seblak perbulan adalah Rp.1.689.728,41, dan potensi maksimum pendapatan yang diperoleh perbulan adalah Rp.4.572.771,58"
   ]
  },
  {
   "cell_type": "markdown",
   "metadata": {},
   "source": [
    "### Pengujian hipotesis harga seblak di Jabodetabek sama dengan harga seblak di luar Jabodetabek"
   ]
  },
  {
   "cell_type": "code",
   "execution_count": 23,
   "metadata": {},
   "outputs": [
    {
     "data": {
      "text/plain": [
       "array(['Bandung', 'Kab. Garut', 'Kab. Tangerang', 'Depok',\n",
       "       'Kab. Indramayu', 'Jakarta Timur', 'Tangerang Selatan',\n",
       "       'Jakarta Selatan', 'Surabaya', 'Jakarta Barat', 'Kab. Bekasi',\n",
       "       'Cimahi', 'Kab. Gresik', 'Jakarta Pusat', 'Bekasi', 'Kab. Bogor',\n",
       "       'Tangerang', 'Kab. Bandung', 'Kab. Sidoarjo', 'Kab. Majalengka',\n",
       "       'Kab. Tasikmalaya'], dtype=object)"
      ]
     },
     "execution_count": 23,
     "metadata": {},
     "output_type": "execute_result"
    }
   ],
   "source": [
    "# Melihat uniqe data dari kolom kota untuk mencari tahu kota apa saja yang menjual seblak\n",
    "data_multipage_no_ads['kota'].unique()"
   ]
  },
  {
   "cell_type": "markdown",
   "metadata": {},
   "source": [
    "Terdapat beberapa kota yang berbeda yang menjual seblak pada platform tokopedia, dan diantara kota tersebut beberapa diantara dalam kawasan Jabodetabek."
   ]
  },
  {
   "cell_type": "code",
   "execution_count": 27,
   "metadata": {},
   "outputs": [],
   "source": [
    "# Membedakan kota penjual antara daerah Jabodetabek atau luar Jabodetabek\n",
    "jabodetabek = data_multipage_no_ads[(data_multipage_no_ads['kota'] == 'Kab. Tangerang') |\n",
    "                                   (data_multipage_no_ads['kota'] == 'Depok') |\n",
    "                                   (data_multipage_no_ads['kota'] == 'Jakarta Timur') |\n",
    "                                   (data_multipage_no_ads['kota'] == 'Tangerang Selatan') |\n",
    "                                   (data_multipage_no_ads['kota'] == 'Jakarta Selatan') |\n",
    "                                   (data_multipage_no_ads['kota'] == 'Jakarta Barat') |\n",
    "                                   (data_multipage_no_ads['kota'] == 'Kab. Bekasi') |\n",
    "                                   (data_multipage_no_ads['kota'] == 'Tangerang')]\n",
    "\n",
    "non_jabodetabek = data_multipage_no_ads[~((data_multipage_no_ads['kota'] == 'Kab. Tangerang') |\n",
    "                                   (data_multipage_no_ads['kota'] == 'Depok') |\n",
    "                                   (data_multipage_no_ads['kota'] == 'Jakarta Timur') |\n",
    "                                   (data_multipage_no_ads['kota'] == 'Tangerang Selatan') |\n",
    "                                   (data_multipage_no_ads['kota'] == 'Jakarta Selatan') |\n",
    "                                   (data_multipage_no_ads['kota'] == 'Jakarta Barat') |\n",
    "                                   (data_multipage_no_ads['kota'] == 'Kab. Bekasi') |\n",
    "                                   (data_multipage_no_ads['kota'] == 'Tangerang'))]\n"
   ]
  },
  {
   "cell_type": "code",
   "execution_count": 28,
   "metadata": {},
   "outputs": [
    {
     "name": "stdout",
     "output_type": "stream",
     "text": [
      "Rata-rata harga seblak di jabodetabek = 18734.071428571428\n",
      "Rata-rata harga seblak di luar jabodetabek = 27602.0\n"
     ]
    }
   ],
   "source": [
    "# Menghitung rata-rata harga seblak di Jabodetabek dan luar Jabodetabek\n",
    "print('Rata-rata harga seblak di jabodetabek =',jabodetabek['harga'].mean())\n",
    "print('Rata-rata harga seblak di luar jabodetabek =',non_jabodetabek['harga'].mean())"
   ]
  },
  {
   "cell_type": "markdown",
   "metadata": {},
   "source": [
    "Berdasarkan perhitungan tersebut diketahui rata-rata harga di Jabodetabek dan Luar Jabodetabek terdapat perbedaan, yakni pada daerah Jabodetabek kisaran harga seblak adalah Rp18.734,07 yang berarti harganya lebih murah dibandingkan di luar Jabodetabek yang harganya kisaran pada Rp27.602"
   ]
  },
  {
   "cell_type": "markdown",
   "metadata": {},
   "source": [
    "### Cek hipotesis harga seblak di Jabodetabek berbeda secara signifikan dengan harga di luar jabodetabek"
   ]
  },
  {
   "cell_type": "markdown",
   "metadata": {},
   "source": [
    "**H0**: Rata-rata harga seblak di jabodetabek == Rata-rata harga seblak di non jabodetabek\n",
    "\n",
    "**H1**: Rata-rata harga seblak di non jabodetabek != Rata-rata harga seblak di non jabodetabek"
   ]
  },
  {
   "cell_type": "code",
   "execution_count": 29,
   "metadata": {},
   "outputs": [
    {
     "name": "stdout",
     "output_type": "stream",
     "text": [
      "T-Statistic: -2.0248697678592364\n",
      "P-value: 0.04506357613572656\n"
     ]
    }
   ],
   "source": [
    "# Test T-statistic dan P-value menggunakan ttest_ind karena pengujian membandingkan rata-rata antara dua kelompok independen yang berbeda.\n",
    "t_stat, p_val = stats.ttest_ind(jabodetabek['harga'],non_jabodetabek['harga'])\n",
    "print('T-Statistic:',t_stat)\n",
    "print('P-value:',p_val) "
   ]
  },
  {
   "cell_type": "markdown",
   "metadata": {},
   "source": [
    "Berdasarkan nilai p-value maka hipotesis 0 berhasil ditolak dan hipotesis 1 diterima, yang berarti ada perbedaan yang signifikan antara harga seblak di Jabodetabek dan di luar Jabodetabek."
   ]
  },
  {
   "cell_type": "markdown",
   "metadata": {},
   "source": [
    "### Berdasarkan data kecenderungan masyarakat terhadap kesukaan harga seblak dengan harga murah"
   ]
  },
  {
   "cell_type": "code",
   "execution_count": 8,
   "metadata": {},
   "outputs": [
    {
     "data": {
      "image/png": "[encoded data removed]",
      "text/plain": [
       "<Figure size 500x500 with 1 Axes>"
      ]
     },
     "metadata": {},
     "output_type": "display_data"
    }
   ],
   "source": [
    "sns.lmplot(data = data_multipage_no_ads ,x='rating', y='harga');"
   ]
  },
  {
   "cell_type": "code",
   "execution_count": 9,
   "metadata": {},
   "outputs": [
    {
     "name": "stdout",
     "output_type": "stream",
     "text": [
      "rho-correlation: 0.20, p-value: 0.028887867955329806\n"
     ]
    }
   ],
   "source": [
    "corr_rho, pval_s = stats.spearmanr(data_multipage_no_ads['rating'], data_multipage_no_ads['harga'])\n",
    "print(f\"rho-correlation: {corr_rho:.2f}, p-value: {pval_s}\")"
   ]
  },
  {
   "cell_type": "markdown",
   "metadata": {},
   "source": [
    "Menurut perhitungan nilai p-value yang diperoleh < 0.05, yakni sebesar 0.0288, maka korelasi antara rating dengan harga seblak adalah kebetulan."
   ]
  },
  {
   "cell_type": "markdown",
   "metadata": {},
   "source": [
    "# CONCLUSION"
   ]
  },
  {
   "cell_type": "markdown",
   "metadata": {},
   "source": [
    "Hasil analisis data seblak dari platform Tokopedia, yang mencakup 124 data merk seblak, harga, jumlah produk terjual, kota penjual, dan rating seblak, menunjukkan bahwa mengembangkan skema bisnis dropship mungkin masih sulit untuk dilakukan. Ini disebabkan oleh beberapa faktor yang signifikan.\n",
    "\n",
    "Pertama, terdapat kecenderungan adanya outlier dalam data harga, jumlah penjualan, dan rating seblak. Outlier ini dapat mengganggu analisis keuntungan dan strategi penjualan karena mempengaruhi variasi data.\n",
    "\n",
    "Faktor kedua adalah pendapatan rata-rata bulanan untuk penjual seblak, yang berkisar antara Rp.1.689.728 hingga Rp.4.572.771. Selain itu, perbedaan harga jual seblak antara wilayah Jabodetabek dan di luar Jabodetabek juga signifikan, dengan harga di Jabodetabek sekitar Rp18.734,07 dan di luar Jabodetabek sekitar Rp27.602.\n",
    "\n",
    "Terakhir, terdapat keraguan terhadap kecenderungan pelanggan yang menyukai produk murah. Meskipun produk dengan harga rendah terlihat memiliki rating yang tinggi, hal ini mungkin disebabkan oleh faktor lain seperti kualitas produk, kondisi kota, atau minat konsumen, dan bukan hanya karena harga rendah itu sendiri.\n",
    "\n",
    "Karena faktor-faktor ini, saya sebagai calon pebisnis seblak skema dropship mungkin akan mengalami kesulitan dalam mencapai tujuan meningkatkan pendapatan selama sebulan.  Tetapi masih memungkinkan jika saya melakukan beberapa alternatif lain, seperti memperbaiki kualitas produk, menyesuaikan strategi harga, atau mengeksplorasi peluang bisnis yang berbeda sepenuhnya. "
   ]
  }
 ],
 "metadata": {
  "kernelspec": {
   "display_name": "base",
   "language": "python",
   "name": "python3"
  },
  "language_info": {
   "codemirror_mode": {
    "name": "ipython",
    "version": 3
   },
   "file_extension": ".py",
   "mimetype": "text/x-python",
   "name": "python",
   "nbconvert_exporter": "python",
   "pygments_lexer": "ipython3",
   "version": "3.9.18"
  }
 },
 "nbformat": 4,
 "nbformat_minor": 2
}
